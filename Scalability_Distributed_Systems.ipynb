{
  "nbformat": 4,
  "nbformat_minor": 0,
  "metadata": {
    "colab": {
      "provenance": [],
      "authorship_tag": "ABX9TyONaNYqVQpmAAJhnDWSArgR",
      "include_colab_link": true
    },
    "kernelspec": {
      "name": "python3",
      "display_name": "Python 3"
    },
    "language_info": {
      "name": "python"
    }
  },
  "cells": [
    {
      "cell_type": "markdown",
      "metadata": {
        "id": "view-in-github",
        "colab_type": "text"
      },
      "source": [
        "<a href=\"https://colab.research.google.com/github/jayeshbhandarkar/Distributed-Computing-Lab/blob/main/Scalability_Distributed_Systems.ipynb\" target=\"_parent\"><img src=\"https://colab.research.google.com/assets/colab-badge.svg\" alt=\"Open In Colab\"/></a>"
      ]
    },
    {
      "cell_type": "code",
      "execution_count": 1,
      "metadata": {
        "id": "CUiYink4IJPN"
      },
      "outputs": [],
      "source": [
        "import time\n",
        "import random\n",
        "from queue import Queue\n",
        "from threading import Thread"
      ]
    },
    {
      "cell_type": "code",
      "source": [
        "class WorkerNode:\n",
        "    def __init__(self, id):\n",
        "        self.id = id\n",
        "\n",
        "    def process_task(self, task):\n",
        "        print(f\"Node {self.id} is processing {task}\")\n",
        "        time.sleep(random.uniform(0.5, 1.5))\n",
        "        # time.sleep(5)\n",
        "        print(f\"\\nNode {self.id} finished processing {task}\")\n",
        "\n",
        "def worker(task_queue, worker_id):\n",
        "    while True:\n",
        "        task = task_queue.get()\n",
        "        if task is None:\n",
        "            break\n",
        "        WorkerNode(worker_id).process_task(task)\n",
        "        task_queue.task_done()\n",
        "\n",
        "def main():\n",
        "    task_queue = Queue()\n",
        "    num_workers = 2\n",
        "    threads = []\n",
        "\n",
        "    for i in range(num_workers):\n",
        "        t = Thread(target=worker, args=(task_queue, i))\n",
        "        t.start()\n",
        "        threads.append(t)\n",
        "\n",
        "    tasks = [f\"Task {i}\" for i in range(5)]\n",
        "\n",
        "    for task in tasks:\n",
        "        task_queue.put(task)\n",
        "\n",
        "    task_queue.join()\n",
        "\n",
        "    for _ in range(num_workers):\n",
        "        task_queue.put(None)\n",
        "\n",
        "    for t in threads:\n",
        "        t.join()\n",
        "\n",
        "if __name__ == \"__main__\":\n",
        "    main()"
      ],
      "metadata": {
        "colab": {
          "base_uri": "https://localhost:8080/"
        },
        "id": "iV8yqUnBIjH2",
        "outputId": "2c4e06d6-9d45-4c60-fcba-2babddf71187"
      },
      "execution_count": 2,
      "outputs": [
        {
          "output_type": "stream",
          "name": "stdout",
          "text": [
            "Node 0 is processing Task 0\n",
            "Node 1 is processing Task 1\n",
            "\n",
            "Node 1 finished processing Task 1\n",
            "Node 1 is processing Task 2\n",
            "\n",
            "Node 0 finished processing Task 0\n",
            "Node 0 is processing Task 3\n",
            "\n",
            "Node 1 finished processing Task 2\n",
            "Node 1 is processing Task 4\n",
            "\n",
            "Node 0 finished processing Task 3\n",
            "\n",
            "Node 1 finished processing Task 4\n"
          ]
        }
      ]
    }
  ]
}