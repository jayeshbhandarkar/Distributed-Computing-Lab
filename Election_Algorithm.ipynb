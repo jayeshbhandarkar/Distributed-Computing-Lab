{
  "cells": [
    {
      "cell_type": "markdown",
      "metadata": {
        "id": "view-in-github",
        "colab_type": "text"
      },
      "source": [
        "<a href=\"https://colab.research.google.com/github/jayeshbhandarkar/Distributed-Computing-Lab/blob/main/Election_Algorithm.ipynb\" target=\"_parent\"><img src=\"https://colab.research.google.com/assets/colab-badge.svg\" alt=\"Open In Colab\"/></a>"
      ]
    },
    {
      "cell_type": "code",
      "execution_count": 13,
      "metadata": {
        "id": "GeBt0scaqGt-"
      },
      "outputs": [],
      "source": [
        "import random\n",
        "import time\n",
        "import threading"
      ]
    },
    {
      "cell_type": "code",
      "execution_count": 14,
      "metadata": {
        "colab": {
          "base_uri": "https://localhost:8080/"
        },
        "id": "aHK7aMk2qPpz",
        "outputId": "5ea01f5c-cdd8-487c-f6f4-cf1379efbf58"
      },
      "outputs": [
        {
          "output_type": "stream",
          "name": "stdout",
          "text": [
            "Node 0 is starting an election\n",
            "Node 1 received election message from Node 0\n",
            "Node 2 received election message from Node 0\n",
            "Node 4 is starting an election\n",
            "Node 4 becomes the coordinator\n",
            "Node 0 acknowledges Node 4 as coordinator\n",
            "Node 1 acknowledges Node 4 as coordinator\n",
            "Node 2 acknowledges Node 4 as coordinator\n",
            "Node 3 acknowledges Node 4 as coordinator\n",
            "Node 3 received election message from Node 0\n",
            "Node 4 received election message from Node 0\n",
            "Node 1 is starting an election\n",
            "Node 2 received election message from Node 1\n",
            "Node 3 received election message from Node 1\n",
            "Node 4 received election message from Node 1\n",
            "Node 3 is starting an election\n",
            "Node 4 received election message from Node 3\n",
            "Node 2 is starting an election\n",
            "Node 3 received election message from Node 2\n",
            "Node 4 received election message from Node 2\n"
          ]
        }
      ],
      "source": [
        "class Node(threading.Thread):\n",
        "  def __init__(self, node_id, nodes):\n",
        "    super().__init__()\n",
        "    self.node_id = node_id\n",
        "    self.nodes = nodes\n",
        "    self.is_coordinator = False\n",
        "\n",
        "  def run(self):\n",
        "    time.sleep(random.randint(1, 5))\n",
        "    if self.is_coordinator:\n",
        "      print(f\"Node {self.node_id} is the coordinator\")\n",
        "    else:\n",
        "      self.start_election()\n",
        "\n",
        "  def start_election(self):\n",
        "    print(f\"Node {self.node_id} is starting an election\")\n",
        "    higher_nodes = [node for node in self.nodes if node.node_id > self.node_id]\n",
        "\n",
        "    if higher_nodes:\n",
        "      for node in higher_nodes:\n",
        "        node.receive_election(self.node_id)\n",
        "    else:\n",
        "      self.become_coordinator()\n",
        "\n",
        "  def receive_election(self, sender_id):\n",
        "    print(f\"Node {self.node_id} received election message from Node {sender_id}\")\n",
        "\n",
        "    if sender_id > self.node_id:\n",
        "      print(f\"Node {self.node_id} acknowledges election from Node {sender_id}\")\n",
        "      self.start_election()\n",
        "\n",
        "  def become_coordinator(self):\n",
        "    print(f\"Node {self.node_id} becomes the coordinator\")\n",
        "    self.is_coordinator = True\n",
        "\n",
        "    for node in self.nodes:\n",
        "      if node.node_id != self.node_id:\n",
        "        node.announce_coordinator(self.node_id)\n",
        "\n",
        "  def announce_coordinator(self, coordinator_id):\n",
        "    print(f\"Node {self.node_id} acknowledges Node {coordinator_id} as coordinator\")\n",
        "\n",
        "num_nodes = 5\n",
        "nodes = [Node(i, []) for i in range(num_nodes)]\n",
        "\n",
        "for node in nodes:\n",
        "  node.nodes = nodes\n",
        "\n",
        "for node in nodes:\n",
        "  node.start()\n",
        "\n",
        "time.sleep(10)\n"
      ]
    }
  ],
  "metadata": {
    "colab": {
      "provenance": [],
      "authorship_tag": "ABX9TyPRIboEx+vs9EjBpr8kapqX",
      "include_colab_link": true
    },
    "kernelspec": {
      "display_name": "Python 3",
      "name": "python3"
    },
    "language_info": {
      "name": "python"
    }
  },
  "nbformat": 4,
  "nbformat_minor": 0
}