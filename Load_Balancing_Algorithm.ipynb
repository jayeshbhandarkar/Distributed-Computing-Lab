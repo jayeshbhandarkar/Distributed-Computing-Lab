{
  "cells": [
    {
      "cell_type": "markdown",
      "metadata": {
        "id": "LVfxdE03LSps"
      },
      "source": [
        "**Lab 1 : Write a Program to implement the Load Balancing Algorithm**"
      ]
    },
    {
      "cell_type": "code",
      "execution_count": 1,
      "metadata": {
        "colab": {
          "base_uri": "https://localhost:8080/"
        },
        "id": "yUTT4siXJVWz",
        "outputId": "f1f2cbc0-b737-46ae-d8ef-5a704b5cf157"
      },
      "outputs": [
        {
          "name": "stdout",
          "output_type": "stream",
          "text": [
            "Request 1: server1\n",
            "Request 2: server2\n",
            "Request 3: server3\n",
            "Request 4: server1\n",
            "Request 5: server2\n",
            "Request 6: server3\n",
            "Request 7: server1\n",
            "Request 8: server2\n",
            "Request 9: server3\n",
            "Request 10: server1\n"
          ]
        }
      ],
      "source": [
        "class RoundRobinLoadBalancer:\n",
        "  def __init__(self, servers):\n",
        "    self.servers = servers\n",
        "    self.index = 0\n",
        "\n",
        "  def get_next_server(self):\n",
        "    server = self.servers[self.index]\n",
        "    self.index = (self.index +1) % len(self.servers)\n",
        "    return server\n",
        "\n",
        "  def add_server(self, server):\n",
        "    self.servers.append(server)\n",
        "\n",
        "  def remove_server(self, server):\n",
        "    self.servers.remove(server)\n",
        "    if self.index >= len(self.servers):\n",
        "      self.index = 0\n",
        "\n",
        "if __name__ == \"__main__\":\n",
        "  servers = [\"server1\", \"server2\", \"server3\"]\n",
        "  load_balancer = RoundRobinLoadBalancer(servers)\n",
        "\n",
        "  for i in range(10):\n",
        "    print(f\"Request {i+1}: {load_balancer.get_next_server()}\")"
      ]
    }
  ],
  "metadata": {
    "colab": {
      "provenance": []
    },
    "kernelspec": {
      "display_name": "Python 3",
      "name": "python3"
    },
    "language_info": {
      "codemirror_mode": {
        "name": "ipython",
        "version": 3
      },
      "file_extension": ".py",
      "mimetype": "text/x-python",
      "name": "python",
      "nbconvert_exporter": "python",
      "pygments_lexer": "ipython3",
      "version": "3.11.4"
    }
  },
  "nbformat": 4,
  "nbformat_minor": 0
}
